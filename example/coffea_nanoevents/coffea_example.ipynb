{
 "cells": [
  {
   "cell_type": "code",
   "execution_count": 1,
   "id": "279dfe57-ce5d-4c81-995b-bfbad4cf4dcb",
   "metadata": {},
   "outputs": [
    {
     "data": {
      "text/plain": [
       "4"
      ]
     },
     "execution_count": 1,
     "metadata": {},
     "output_type": "execute_result"
    }
   ],
   "source": [
    "2+2"
   ]
  },
  {
   "cell_type": "code",
   "execution_count": null,
   "id": "da26afcb-a487-4e41-a926-1051755a6883",
   "metadata": {},
   "outputs": [],
   "source": [
    "from coffea.nanoevents import NanoEventsFactory\n",
    "from coffea import processor\n",
    "\n",
    "import dask_awkward as dak\n",
    "import hist.dask as hda\n",
    "\n",
    "\n",
    "use_taskvine = True\n",
    "\n",
    "if use_taskvine:\n",
    "    from ndcctools.taskvine import DaskVine\n",
    "\n",
    "    \n",
    "    vine_manager = DaskVine(name=\"saiful-coffea-example\")\n",
    "\n",
    "    executor_args = {\n",
    "        \"scheduler\": vine_manager,\n",
    "        \"worker_transfers\": True,\n",
    "        \"task_mode\": \"function-calls\",\n",
    "    }\n",
    "else:\n",
    "    from distributed import Client\n",
    "    client = Client()\n",
    "\n",
    "    executor_args = {}\n",
    "\n",
    "\n",
    "data_file = (\"file:///scratch365/btovar/data//Run2012B_SingleMu.root\",)\n",
    "\n",
    "events = NanoEventsFactory.from_root(\n",
    "    {data_file: \"/Events\"}, metadata={\"dataset\": \"SingleMu\"}\n",
    ").events()\n",
    "\n",
    "q1_hist = (\n",
    "    hda.Hist.new.Reg(100, 0, 200, name=\"met\", label=\"$E_{T}^{miss}$ [GeV]\")\n",
    "    .Double()\n",
    "    .fill(events.MET.pt)\n",
    ")\n",
    "\n",
    "q1_hist.compute(**executor_args).plot1d()\n",
    "\n",
    "dak.necessary_columns(q1_hist)"
   ]
  }
 ],
 "metadata": {
  "kernelspec": {
   "display_name": "Python 3 (ipykernel)",
   "language": "python",
   "name": "python3"
  },
  "language_info": {
   "codemirror_mode": {
    "name": "ipython",
    "version": 3
   },
   "file_extension": ".py",
   "mimetype": "text/x-python",
   "name": "python",
   "nbconvert_exporter": "python",
   "pygments_lexer": "ipython3",
   "version": "3.13.1"
  }
 },
 "nbformat": 4,
 "nbformat_minor": 5
}
