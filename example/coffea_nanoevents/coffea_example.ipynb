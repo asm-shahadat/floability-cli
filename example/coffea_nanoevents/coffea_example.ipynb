{
 "cells": [
  {
   "cell_type": "code",
   "execution_count": 1,
   "id": "da26afcb-a487-4e41-a926-1051755a6883",
   "metadata": {},
   "outputs": [
    {
     "name": "stderr",
     "output_type": "stream",
     "text": [
      "/afs/crc.nd.edu/user/m/mislam5/miniconda3/envs/floability-env-2/lib/python3.13/site-packages/coffea/nanoevents/schemas/fcc.py:5: FutureWarning: In version 2025.1.0 (target date: 2024-12-31 11:59:59-06:00), this will be an error.\n",
      "To raise these warnings as errors (and get stack traces to find out where they're called), run\n",
      "    import warnings\n",
      "    warnings.filterwarnings(\"error\", module=\"coffea.*\")\n",
      "after the first `import coffea` or use `@pytest.mark.filterwarnings(\"error:::coffea.*\")` in pytest.\n",
      "Issue: coffea.nanoevents.methods.vector will be removed and replaced with scikit-hep vector. Nanoevents schemas internal to coffea will be migrated. Otherwise please consider using that package!.\n",
      "  from coffea.nanoevents.methods import vector\n"
     ]
    },
    {
     "ename": "NameError",
     "evalue": "name 'abs_path' is not defined",
     "output_type": "error",
     "traceback": [
      "\u001b[0;31m---------------------------------------------------------------------------\u001b[0m",
      "\u001b[0;31mNameError\u001b[0m                                 Traceback (most recent call last)",
      "Cell \u001b[0;32mIn[1], line 30\u001b[0m\n\u001b[1;32m     26\u001b[0m     executor_args \u001b[38;5;241m=\u001b[39m {}\n\u001b[1;32m     29\u001b[0m data_abs_path \u001b[38;5;241m=\u001b[39m os\u001b[38;5;241m.\u001b[39mpath\u001b[38;5;241m.\u001b[39mabspath(\u001b[38;5;124m\"\u001b[39m\u001b[38;5;124mdata/small_data.root\u001b[39m\u001b[38;5;124m\"\u001b[39m)\n\u001b[0;32m---> 30\u001b[0m data_url \u001b[38;5;241m=\u001b[39m \u001b[38;5;124mf\u001b[39m\u001b[38;5;124m\"\u001b[39m\u001b[38;5;124mfile://\u001b[39m\u001b[38;5;132;01m{\u001b[39;00m\u001b[43mabs_path\u001b[49m\u001b[38;5;132;01m}\u001b[39;00m\u001b[38;5;124m\"\u001b[39m\n\u001b[1;32m     32\u001b[0m data_file \u001b[38;5;241m=\u001b[39m (data_url,)\n\u001b[1;32m     35\u001b[0m events \u001b[38;5;241m=\u001b[39m NanoEventsFactory\u001b[38;5;241m.\u001b[39mfrom_root(\n\u001b[1;32m     36\u001b[0m     {data_file: \u001b[38;5;124m\"\u001b[39m\u001b[38;5;124m/Events\u001b[39m\u001b[38;5;124m\"\u001b[39m}, metadata\u001b[38;5;241m=\u001b[39m{\u001b[38;5;124m\"\u001b[39m\u001b[38;5;124mdataset\u001b[39m\u001b[38;5;124m\"\u001b[39m: \u001b[38;5;124m\"\u001b[39m\u001b[38;5;124mSingleMu\u001b[39m\u001b[38;5;124m\"\u001b[39m}\n\u001b[1;32m     37\u001b[0m )\u001b[38;5;241m.\u001b[39mevents()\n",
      "\u001b[0;31mNameError\u001b[0m: name 'abs_path' is not defined"
     ]
    }
   ],
   "source": [
    "import os\n",
    "from coffea.nanoevents import NanoEventsFactory\n",
    "from coffea import processor\n",
    "\n",
    "import dask_awkward as dak\n",
    "import hist.dask as hda\n",
    "\n",
    "\n",
    "use_taskvine = True\n",
    "\n",
    "if use_taskvine:\n",
    "    from ndcctools.taskvine import DaskVine\n",
    "\n",
    "    \n",
    "    vine_manager = DaskVine(name=\"saiful-coffea-example-4\")\n",
    "\n",
    "    executor_args = {\n",
    "        \"scheduler\": vine_manager,\n",
    "        \"worker_transfers\": True,\n",
    "        \"task_mode\": \"function-calls\",\n",
    "    }\n",
    "else:\n",
    "    from distributed import Client\n",
    "    client = Client()\n",
    "\n",
    "    executor_args = {}\n",
    "\n",
    "\n",
    "data_abs_path = os.path.abspath(\"data/small_data.root\")\n",
    "data_url = f\"file://{data_abs_path}\"\n",
    "\n",
    "data_file = (data_url,)\n",
    "\n",
    "\n",
    "events = NanoEventsFactory.from_root(\n",
    "    {data_file: \"/Events\"}, metadata={\"dataset\": \"SingleMu\"}\n",
    ").events()\n",
    "\n",
    "q1_hist = (\n",
    "    hda.Hist.new.Reg(100, 0, 200, name=\"met\", label=\"$E_{T}^{miss}$ [GeV]\")\n",
    "    .Double()\n",
    "    .fill(events.MET.pt)\n",
    ")\n",
    "\n",
    "q1_hist.compute(**executor_args).plot1d()\n",
    "\n",
    "dak.necessary_columns(q1_hist)"
   ]
  }
 ],
 "metadata": {
  "kernelspec": {
   "display_name": "Python 3 (ipykernel)",
   "language": "python",
   "name": "python3"
  },
  "language_info": {
   "codemirror_mode": {
    "name": "ipython",
    "version": 3
   },
   "file_extension": ".py",
   "mimetype": "text/x-python",
   "name": "python",
   "nbconvert_exporter": "python",
   "pygments_lexer": "ipython3",
   "version": "3.13.1"
  }
 },
 "nbformat": 4,
 "nbformat_minor": 5
}
