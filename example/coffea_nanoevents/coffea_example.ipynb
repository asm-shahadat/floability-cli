{
 "cells": [
  {
   "cell_type": "code",
   "execution_count": 1,
   "id": "da26afcb-a487-4e41-a926-1051755a6883",
   "metadata": {},
   "outputs": [
    {
     "name": "stderr",
     "output_type": "stream",
     "text": [
      "/afs/crc.nd.edu/user/m/mislam5/miniconda3/envs/floability-env-2/lib/python3.13/site-packages/coffea/nanoevents/schemas/fcc.py:5: FutureWarning: In version 2025.1.0 (target date: 2024-12-31 11:59:59-06:00), this will be an error.\n",
      "To raise these warnings as errors (and get stack traces to find out where they're called), run\n",
      "    import warnings\n",
      "    warnings.filterwarnings(\"error\", module=\"coffea.*\")\n",
      "after the first `import coffea` or use `@pytest.mark.filterwarnings(\"error:::coffea.*\")` in pytest.\n",
      "Issue: coffea.nanoevents.methods.vector will be removed and replaced with scikit-hep vector. Nanoevents schemas internal to coffea will be migrated. Otherwise please consider using that package!.\n",
      "  from coffea.nanoevents.methods import vector\n",
      "/afs/crc.nd.edu/user/m/mislam5/miniconda3/envs/floability-env-2/lib/python3.13/site-packages/coffea/nanoevents/schemas/nanoaod.py:264: RuntimeWarning: Missing cross-reference index for Electron_photonIdx => Photon\n",
      "  warnings.warn(\n",
      "/afs/crc.nd.edu/user/m/mislam5/miniconda3/envs/floability-env-2/lib/python3.13/site-packages/coffea/nanoevents/schemas/nanoaod.py:264: RuntimeWarning: Missing cross-reference index for LowPtElectron_electronIdx => Electron\n",
      "  warnings.warn(\n",
      "/afs/crc.nd.edu/user/m/mislam5/miniconda3/envs/floability-env-2/lib/python3.13/site-packages/coffea/nanoevents/schemas/nanoaod.py:264: RuntimeWarning: Missing cross-reference index for LowPtElectron_photonIdx => Photon\n",
      "  warnings.warn(\n",
      "/afs/crc.nd.edu/user/m/mislam5/miniconda3/envs/floability-env-2/lib/python3.13/site-packages/coffea/nanoevents/schemas/nanoaod.py:264: RuntimeWarning: Missing cross-reference index for FatJet_subJetIdx1 => SubJet\n",
      "  warnings.warn(\n",
      "/afs/crc.nd.edu/user/m/mislam5/miniconda3/envs/floability-env-2/lib/python3.13/site-packages/coffea/nanoevents/schemas/nanoaod.py:264: RuntimeWarning: Missing cross-reference index for FatJet_subJetIdx2 => SubJet\n",
      "  warnings.warn(\n",
      "/afs/crc.nd.edu/user/m/mislam5/miniconda3/envs/floability-env-2/lib/python3.13/site-packages/coffea/nanoevents/schemas/nanoaod.py:264: RuntimeWarning: Missing cross-reference index for FsrPhoton_muonIdx => Muon\n",
      "  warnings.warn(\n",
      "/afs/crc.nd.edu/user/m/mislam5/miniconda3/envs/floability-env-2/lib/python3.13/site-packages/coffea/nanoevents/schemas/nanoaod.py:264: RuntimeWarning: Missing cross-reference index for Jet_electronIdx1 => Electron\n",
      "  warnings.warn(\n",
      "/afs/crc.nd.edu/user/m/mislam5/miniconda3/envs/floability-env-2/lib/python3.13/site-packages/coffea/nanoevents/schemas/nanoaod.py:264: RuntimeWarning: Missing cross-reference index for Jet_electronIdx2 => Electron\n",
      "  warnings.warn(\n",
      "/afs/crc.nd.edu/user/m/mislam5/miniconda3/envs/floability-env-2/lib/python3.13/site-packages/coffea/nanoevents/schemas/nanoaod.py:264: RuntimeWarning: Missing cross-reference index for Jet_muonIdx1 => Muon\n",
      "  warnings.warn(\n",
      "/afs/crc.nd.edu/user/m/mislam5/miniconda3/envs/floability-env-2/lib/python3.13/site-packages/coffea/nanoevents/schemas/nanoaod.py:264: RuntimeWarning: Missing cross-reference index for Jet_muonIdx2 => Muon\n",
      "  warnings.warn(\n",
      "/afs/crc.nd.edu/user/m/mislam5/miniconda3/envs/floability-env-2/lib/python3.13/site-packages/coffea/nanoevents/schemas/nanoaod.py:264: RuntimeWarning: Missing cross-reference index for Muon_fsrPhotonIdx => FsrPhoton\n",
      "  warnings.warn(\n",
      "/afs/crc.nd.edu/user/m/mislam5/miniconda3/envs/floability-env-2/lib/python3.13/site-packages/coffea/nanoevents/schemas/nanoaod.py:264: RuntimeWarning: Missing cross-reference index for Photon_electronIdx => Electron\n",
      "  warnings.warn(\n"
     ]
    },
    {
     "data": {
      "application/vnd.jupyter.widget-view+json": {
       "model_id": "134a0fcea42c482c8c636e0609f1a3c8",
       "version_major": 2,
       "version_minor": 0
      },
      "text/plain": [
       "Output()"
      ]
     },
     "metadata": {},
     "output_type": "display_data"
    },
    {
     "data": {
      "text/html": [
       "<pre style=\"white-space:pre;overflow-x:auto;line-height:normal;font-family:Menlo,'DejaVu Sans Mono',consolas,'Courier New',monospace\"></pre>\n"
      ],
      "text/plain": []
     },
     "metadata": {},
     "output_type": "display_data"
    },
    {
     "data": {
      "text/plain": [
       "{'from-uproot-d8a465452d1c096d8062d5c4894b589b': frozenset({'MET_pt'})}"
      ]
     },
     "execution_count": 1,
     "metadata": {},
     "output_type": "execute_result"
    },
    {
     "data": {
      "image/png": "[encoded data removed]",
      "text/plain": [
       "<Figure size 640x480 with 1 Axes>"
      ]
     },
     "metadata": {},
     "output_type": "display_data"
    }
   ],
   "source": [
    "from coffea.nanoevents import NanoEventsFactory\n",
    "from coffea import processor\n",
    "\n",
    "import dask_awkward as dak\n",
    "import hist.dask as hda\n",
    "\n",
    "\n",
    "use_taskvine = True\n",
    "\n",
    "if use_taskvine:\n",
    "    from ndcctools.taskvine import DaskVine\n",
    "\n",
    "    \n",
    "    vine_manager = DaskVine(name=\"saiful-coffea-example\")\n",
    "\n",
    "    executor_args = {\n",
    "        \"scheduler\": vine_manager,\n",
    "        \"worker_transfers\": True,\n",
    "        \"task_mode\": \"function-calls\",\n",
    "    }\n",
    "else:\n",
    "    from distributed import Client\n",
    "    client = Client()\n",
    "\n",
    "    executor_args = {}\n",
    "\n",
    "\n",
    "data_file = (\"file:///scratch365/btovar/data//Run2012B_SingleMu.root\",)\n",
    "\n",
    "events = NanoEventsFactory.from_root(\n",
    "    {data_file: \"/Events\"}, metadata={\"dataset\": \"SingleMu\"}\n",
    ").events()\n",
    "\n",
    "q1_hist = (\n",
    "    hda.Hist.new.Reg(100, 0, 200, name=\"met\", label=\"$E_{T}^{miss}$ [GeV]\")\n",
    "    .Double()\n",
    "    .fill(events.MET.pt)\n",
    ")\n",
    "\n",
    "q1_hist.compute(**executor_args).plot1d()\n",
    "\n",
    "dak.necessary_columns(q1_hist)"
   ]
  }
 ],
 "metadata": {
  "kernelspec": {
   "display_name": "Python 3 (ipykernel)",
   "language": "python",
   "name": "python3"
  },
  "language_info": {
   "codemirror_mode": {
    "name": "ipython",
    "version": 3
   },
   "file_extension": ".py",
   "mimetype": "text/x-python",
   "name": "python",
   "nbconvert_exporter": "python",
   "pygments_lexer": "ipython3",
   "version": "3.13.1"
  }
 },
 "nbformat": 4,
 "nbformat_minor": 5
}
