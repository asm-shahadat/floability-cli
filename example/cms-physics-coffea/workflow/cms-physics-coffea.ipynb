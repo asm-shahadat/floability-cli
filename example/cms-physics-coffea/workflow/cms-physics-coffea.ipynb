{
 "cells": [
  {
   "cell_type": "code",
   "execution_count": null,
   "id": "781e9011-d794-4ebe-8ef5-3bd635f8ec07",
   "metadata": {},
   "outputs": [],
   "source": [
    "import os\n",
    "from coffea.nanoevents import NanoEventsFactory\n",
    "from coffea import processor\n",
    "\n",
    "import dask_awkward as dak\n",
    "import hist.dask as hda\n",
    "\n",
    "import warnings\n",
    "warnings.filterwarnings(\"error\", module=\"coffea.*\")\n",
    "\n",
    "\n",
    "use_taskvine = True\n",
    "\n",
    "if use_taskvine:\n",
    "    from ndcctools.taskvine import DaskVine\n",
    "\n",
    "    \n",
    "    vine_manager = DaskVine(name=f\"{os.environ[\"USER\"]}-coffea-example-4\")\n",
    "\n",
    "    executor_args = {\n",
    "        \"scheduler\": vine_manager,\n",
    "        \"worker_transfers\": True,\n",
    "        # \"task_mode\": \"function-calls\",\n",
    "    }\n",
    "else:\n",
    "    from distributed import Client\n",
    "    client = Client()\n",
    "\n",
    "    executor_args = {}"
   ]
  },
  {
   "cell_type": "code",
   "execution_count": null,
   "id": "35463635-acb2-4d33-89da-68d5b7344c20",
   "metadata": {},
   "outputs": [],
   "source": [
    "data_abs_path = os.path.abspath(\"data/small_data.root\")\n",
    "data_url = f\"file://{data_abs_path}\"\n",
    "\n",
    "data_file = (data_url,)\n",
    "\n",
    "\n",
    "events = NanoEventsFactory.from_root(\n",
    "    {data_file: \"/Events\"}, metadata={\"dataset\": \"SingleMu\"}\n",
    ").events()\n",
    "\n",
    "q1_hist = (\n",
    "    hda.Hist.new.Reg(100, 0, 200, name=\"met\", label=\"$E_{T}^{miss}$ [GeV]\")\n",
    "    .Double()\n",
    "    .fill(events.MET.pt)\n",
    ")\n",
    "\n",
    "q1_hist.compute(**executor_args).plot1d()\n",
    "\n",
    "dak.necessary_columns(q1_hist)"
   ]
  },
  {
   "cell_type": "code",
   "execution_count": null,
   "id": "c1a439eb-fbc8-4ed6-a122-dd9424374f7c",
   "metadata": {},
   "outputs": [],
   "source": []
  }
 ],
 "metadata": {
  "kernelspec": {
   "display_name": "Python 3 (ipykernel)",
   "language": "python",
   "name": "python3"
  },
  "language_info": {
   "codemirror_mode": {
    "name": "ipython",
    "version": 3
   },
   "file_extension": ".py",
   "mimetype": "text/x-python",
   "name": "python",
   "nbconvert_exporter": "python",
   "pygments_lexer": "ipython3",
   "version": "3.13.2"
  }
 },
 "nbformat": 4,
 "nbformat_minor": 5
}
